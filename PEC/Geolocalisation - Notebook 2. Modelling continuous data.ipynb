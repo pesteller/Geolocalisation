{
 "cells": [
  {
   "cell_type": "markdown",
   "id": "a79a525e",
   "metadata": {},
   "source": [
    "## <span style=\"color:brown\">*Capstone project: Geolocalisation -  Notebook 2. Modelling continuous data*</span>\n",
    "\n",
    "### <span style=\"color:brown\">*0. Load packages and data stored as pkl*</span>"
   ]
  },
  {
   "cell_type": "code",
   "execution_count": 2,
   "id": "39343938",
   "metadata": {},
   "outputs": [],
   "source": [
    "import numpy as np # linear algebra\n",
    "import pandas as pd # data processing, CSV file I/O (e.g. pd.read_csv)\n",
    "import matplotlib.pyplot as plt\n",
    "import seaborn as sns\n",
    "\n",
    "# If should be df_train_c_filtPos80filtSamp70 but for abbreviation we will made it df_train_c\n",
    "df_train_c = pd.read_pickle(\"./pkl/df_train_c_filtPos80filtSamp70.pkl.gz\", compression=\"infer\") # Save object with pickle"
   ]
  },
  {
   "cell_type": "code",
   "execution_count": 5,
   "id": "62d28f55",
   "metadata": {},
   "outputs": [
    {
     "data": {
      "text/html": [
       "<div>\n",
       "<style scoped>\n",
       "    .dataframe tbody tr th:only-of-type {\n",
       "        vertical-align: middle;\n",
       "    }\n",
       "\n",
       "    .dataframe tbody tr th {\n",
       "        vertical-align: top;\n",
       "    }\n",
       "\n",
       "    .dataframe thead th {\n",
       "        text-align: right;\n",
       "    }\n",
       "</style>\n",
       "<table border=\"1\" class=\"dataframe\">\n",
       "  <thead>\n",
       "    <tr style=\"text-align: right;\">\n",
       "      <th></th>\n",
       "      <th>1267</th>\n",
       "      <th>1268</th>\n",
       "      <th>1270</th>\n",
       "      <th>1271</th>\n",
       "      <th>1272</th>\n",
       "      <th>1273</th>\n",
       "      <th>1274</th>\n",
       "      <th>1451</th>\n",
       "      <th>1452</th>\n",
       "      <th>1453</th>\n",
       "      <th>...</th>\n",
       "      <th>2690716</th>\n",
       "      <th>2690717</th>\n",
       "      <th>2690718</th>\n",
       "      <th>2690719</th>\n",
       "      <th>2690720</th>\n",
       "      <th>2690721</th>\n",
       "      <th>2690722</th>\n",
       "      <th>2690723</th>\n",
       "      <th>2690724</th>\n",
       "      <th>2690725</th>\n",
       "    </tr>\n",
       "  </thead>\n",
       "  <tbody>\n",
       "    <tr>\n",
       "      <th>Gis1-24</th>\n",
       "      <td>0.0</td>\n",
       "      <td>0.0</td>\n",
       "      <td>0.0</td>\n",
       "      <td>0.0</td>\n",
       "      <td>0.0</td>\n",
       "      <td>0.0</td>\n",
       "      <td>0.0</td>\n",
       "      <td>0.0</td>\n",
       "      <td>0.0</td>\n",
       "      <td>0.0</td>\n",
       "      <td>...</td>\n",
       "      <td>0.0</td>\n",
       "      <td>0.0</td>\n",
       "      <td>0.0</td>\n",
       "      <td>0.0</td>\n",
       "      <td>0.0</td>\n",
       "      <td>0.0</td>\n",
       "      <td>2.0</td>\n",
       "      <td>0.0</td>\n",
       "      <td>0.0</td>\n",
       "      <td>0.0</td>\n",
       "    </tr>\n",
       "    <tr>\n",
       "      <th>Bwi1-74</th>\n",
       "      <td>0.0</td>\n",
       "      <td>0.0</td>\n",
       "      <td>0.0</td>\n",
       "      <td>0.0</td>\n",
       "      <td>0.0</td>\n",
       "      <td>0.0</td>\n",
       "      <td>0.0</td>\n",
       "      <td>0.0</td>\n",
       "      <td>0.0</td>\n",
       "      <td>0.0</td>\n",
       "      <td>...</td>\n",
       "      <td>0.0</td>\n",
       "      <td>0.0</td>\n",
       "      <td>0.0</td>\n",
       "      <td>0.0</td>\n",
       "      <td>0.0</td>\n",
       "      <td>0.0</td>\n",
       "      <td>2.0</td>\n",
       "      <td>0.0</td>\n",
       "      <td>0.0</td>\n",
       "      <td>0.0</td>\n",
       "    </tr>\n",
       "    <tr>\n",
       "      <th>Tai_R2-30</th>\n",
       "      <td>0.0</td>\n",
       "      <td>0.0</td>\n",
       "      <td>0.0</td>\n",
       "      <td>0.0</td>\n",
       "      <td>0.0</td>\n",
       "      <td>0.0</td>\n",
       "      <td>0.0</td>\n",
       "      <td>0.0</td>\n",
       "      <td>0.0</td>\n",
       "      <td>0.0</td>\n",
       "      <td>...</td>\n",
       "      <td>0.0</td>\n",
       "      <td>0.0</td>\n",
       "      <td>0.0</td>\n",
       "      <td>0.0</td>\n",
       "      <td>0.0</td>\n",
       "      <td>0.0</td>\n",
       "      <td>2.0</td>\n",
       "      <td>0.0</td>\n",
       "      <td>0.0</td>\n",
       "      <td>0.0</td>\n",
       "    </tr>\n",
       "    <tr>\n",
       "      <th>Sob1-31</th>\n",
       "      <td>0.0</td>\n",
       "      <td>0.0</td>\n",
       "      <td>0.0</td>\n",
       "      <td>0.0</td>\n",
       "      <td>0.0</td>\n",
       "      <td>0.0</td>\n",
       "      <td>0.0</td>\n",
       "      <td>0.0</td>\n",
       "      <td>0.0</td>\n",
       "      <td>0.0</td>\n",
       "      <td>...</td>\n",
       "      <td>0.0</td>\n",
       "      <td>0.0</td>\n",
       "      <td>0.0</td>\n",
       "      <td>0.0</td>\n",
       "      <td>0.0</td>\n",
       "      <td>0.0</td>\n",
       "      <td>2.0</td>\n",
       "      <td>0.0</td>\n",
       "      <td>0.0</td>\n",
       "      <td>0.0</td>\n",
       "    </tr>\n",
       "    <tr>\n",
       "      <th>LCA-3-12</th>\n",
       "      <td>0.0</td>\n",
       "      <td>0.0</td>\n",
       "      <td>0.0</td>\n",
       "      <td>0.0</td>\n",
       "      <td>0.0</td>\n",
       "      <td>0.0</td>\n",
       "      <td>0.0</td>\n",
       "      <td>NaN</td>\n",
       "      <td>NaN</td>\n",
       "      <td>NaN</td>\n",
       "      <td>...</td>\n",
       "      <td>0.0</td>\n",
       "      <td>0.0</td>\n",
       "      <td>0.0</td>\n",
       "      <td>0.0</td>\n",
       "      <td>0.0</td>\n",
       "      <td>0.0</td>\n",
       "      <td>2.0</td>\n",
       "      <td>0.0</td>\n",
       "      <td>0.0</td>\n",
       "      <td>0.0</td>\n",
       "    </tr>\n",
       "  </tbody>\n",
       "</table>\n",
       "<p>5 rows × 993247 columns</p>\n",
       "</div>"
      ],
      "text/plain": [
       "           1267     1268     1270     1271     1272     1273     1274     \\\n",
       "Gis1-24        0.0      0.0      0.0      0.0      0.0      0.0      0.0   \n",
       "Bwi1-74        0.0      0.0      0.0      0.0      0.0      0.0      0.0   \n",
       "Tai_R2-30      0.0      0.0      0.0      0.0      0.0      0.0      0.0   \n",
       "Sob1-31        0.0      0.0      0.0      0.0      0.0      0.0      0.0   \n",
       "LCA-3-12       0.0      0.0      0.0      0.0      0.0      0.0      0.0   \n",
       "\n",
       "           1451     1452     1453     ...  2690716  2690717  2690718  2690719  \\\n",
       "Gis1-24        0.0      0.0      0.0  ...      0.0      0.0      0.0      0.0   \n",
       "Bwi1-74        0.0      0.0      0.0  ...      0.0      0.0      0.0      0.0   \n",
       "Tai_R2-30      0.0      0.0      0.0  ...      0.0      0.0      0.0      0.0   \n",
       "Sob1-31        0.0      0.0      0.0  ...      0.0      0.0      0.0      0.0   \n",
       "LCA-3-12       NaN      NaN      NaN  ...      0.0      0.0      0.0      0.0   \n",
       "\n",
       "           2690720  2690721  2690722  2690723  2690724  2690725  \n",
       "Gis1-24        0.0      0.0      2.0      0.0      0.0      0.0  \n",
       "Bwi1-74        0.0      0.0      2.0      0.0      0.0      0.0  \n",
       "Tai_R2-30      0.0      0.0      2.0      0.0      0.0      0.0  \n",
       "Sob1-31        0.0      0.0      2.0      0.0      0.0      0.0  \n",
       "LCA-3-12       0.0      0.0      2.0      0.0      0.0      0.0  \n",
       "\n",
       "[5 rows x 993247 columns]"
      ]
     },
     "execution_count": 5,
     "metadata": {},
     "output_type": "execute_result"
    }
   ],
   "source": [
    "df_train_c.head()"
   ]
  },
  {
   "cell_type": "code",
   "execution_count": 61,
   "id": "e8cdcb2a",
   "metadata": {
    "scrolled": true
   },
   "outputs": [
    {
     "data": {
      "text/plain": [
       "[Text(0.5, 1.0, 'Distribution of mean values per sample\\n(n = 280 samples)')]"
      ]
     },
     "execution_count": 61,
     "metadata": {},
     "output_type": "execute_result"
    },
    {
     "data": {
      "image/png": "[encoded data removed]",
      "text/plain": [
       "<Figure size 432x288 with 1 Axes>"
      ]
     },
     "metadata": {
      "needs_background": "light"
     },
     "output_type": "display_data"
    }
   ],
   "source": [
    "sns.histplot(df_train_c.mean(axis=1), color=\"brown\").set(title = \"Distribution of mean values per sample\\n(n = 280 samples)\")\n"
   ]
  },
  {
   "cell_type": "code",
   "execution_count": 34,
   "id": "21b6c5e8",
   "metadata": {},
   "outputs": [],
   "source": [
    "mean_val=df_train_c.iloc[:,].mean().mean()\n",
    "df_train_c = df_train_c.replace(np.nan, mean_val) # Replace NaN by mean of columns and rows"
   ]
  }
 ],
 "metadata": {
  "kernelspec": {
   "display_name": "Python 3",
   "language": "python",
   "name": "python3"
  },
  "language_info": {
   "codemirror_mode": {
    "name": "ipython",
    "version": 3
   },
   "file_extension": ".py",
   "mimetype": "text/x-python",
   "name": "python",
   "nbconvert_exporter": "python",
   "pygments_lexer": "ipython3",
   "version": "3.8.8"
  }
 },
 "nbformat": 4,
 "nbformat_minor": 5
}
