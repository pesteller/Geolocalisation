{
 "cells": [
  {
   "cell_type": "code",
   "execution_count": 69,
   "metadata": {},
   "outputs": [],
   "source": [
    "import numpy as np \n",
    "import pandas as pd \n",
    "import matplotlib.pyplot as plt\n",
    "import seaborn as sns\n",
    "\n",
    "from sklearn.ensemble import RandomForestClassifier\n",
    "from sklearn.model_selection import train_test_split\n",
    "from sklearn.neural_network import MLPClassifier\n",
    "from sklearn.metrics import accuracy_score"
   ]
  },
  {
   "cell_type": "code",
   "execution_count": 13,
   "id": "39343938",
   "metadata": {},
   "outputs": [
    {
     "data": {
      "text/html": [
       "<div>\n",
       "<style scoped>\n",
       "    .dataframe tbody tr th:only-of-type {\n",
       "        vertical-align: middle;\n",
       "    }\n",
       "\n",
       "    .dataframe tbody tr th {\n",
       "        vertical-align: top;\n",
       "    }\n",
       "\n",
       "    .dataframe thead th {\n",
       "        text-align: right;\n",
       "    }\n",
       "</style>\n",
       "<table border=\"1\" class=\"dataframe\">\n",
       "  <thead>\n",
       "    <tr style=\"text-align: right;\">\n",
       "      <th></th>\n",
       "      <th>1267</th>\n",
       "      <th>1268</th>\n",
       "      <th>1270</th>\n",
       "      <th>1271</th>\n",
       "      <th>1272</th>\n",
       "      <th>1273</th>\n",
       "      <th>1274</th>\n",
       "      <th>1451</th>\n",
       "      <th>1452</th>\n",
       "      <th>1453</th>\n",
       "      <th>...</th>\n",
       "      <th>2690716</th>\n",
       "      <th>2690717</th>\n",
       "      <th>2690718</th>\n",
       "      <th>2690719</th>\n",
       "      <th>2690720</th>\n",
       "      <th>2690721</th>\n",
       "      <th>2690722</th>\n",
       "      <th>2690723</th>\n",
       "      <th>2690724</th>\n",
       "      <th>2690725</th>\n",
       "    </tr>\n",
       "  </thead>\n",
       "  <tbody>\n",
       "    <tr>\n",
       "      <th>Gis1-24</th>\n",
       "      <td>0.0</td>\n",
       "      <td>0.0</td>\n",
       "      <td>0.0</td>\n",
       "      <td>0.0</td>\n",
       "      <td>0.0</td>\n",
       "      <td>0.0</td>\n",
       "      <td>0.0</td>\n",
       "      <td>0.0</td>\n",
       "      <td>0.0</td>\n",
       "      <td>0.0</td>\n",
       "      <td>...</td>\n",
       "      <td>0.0</td>\n",
       "      <td>0.0</td>\n",
       "      <td>0.0</td>\n",
       "      <td>0.0</td>\n",
       "      <td>0.0</td>\n",
       "      <td>0.0</td>\n",
       "      <td>2.0</td>\n",
       "      <td>0.0</td>\n",
       "      <td>0.0</td>\n",
       "      <td>0.0</td>\n",
       "    </tr>\n",
       "    <tr>\n",
       "      <th>Bwi1-74</th>\n",
       "      <td>0.0</td>\n",
       "      <td>0.0</td>\n",
       "      <td>0.0</td>\n",
       "      <td>0.0</td>\n",
       "      <td>0.0</td>\n",
       "      <td>0.0</td>\n",
       "      <td>0.0</td>\n",
       "      <td>0.0</td>\n",
       "      <td>0.0</td>\n",
       "      <td>0.0</td>\n",
       "      <td>...</td>\n",
       "      <td>0.0</td>\n",
       "      <td>0.0</td>\n",
       "      <td>0.0</td>\n",
       "      <td>0.0</td>\n",
       "      <td>0.0</td>\n",
       "      <td>0.0</td>\n",
       "      <td>2.0</td>\n",
       "      <td>0.0</td>\n",
       "      <td>0.0</td>\n",
       "      <td>0.0</td>\n",
       "    </tr>\n",
       "    <tr>\n",
       "      <th>Tai_R2-30</th>\n",
       "      <td>0.0</td>\n",
       "      <td>0.0</td>\n",
       "      <td>0.0</td>\n",
       "      <td>0.0</td>\n",
       "      <td>0.0</td>\n",
       "      <td>0.0</td>\n",
       "      <td>0.0</td>\n",
       "      <td>0.0</td>\n",
       "      <td>0.0</td>\n",
       "      <td>0.0</td>\n",
       "      <td>...</td>\n",
       "      <td>0.0</td>\n",
       "      <td>0.0</td>\n",
       "      <td>0.0</td>\n",
       "      <td>0.0</td>\n",
       "      <td>0.0</td>\n",
       "      <td>0.0</td>\n",
       "      <td>2.0</td>\n",
       "      <td>0.0</td>\n",
       "      <td>0.0</td>\n",
       "      <td>0.0</td>\n",
       "    </tr>\n",
       "    <tr>\n",
       "      <th>Sob1-31</th>\n",
       "      <td>0.0</td>\n",
       "      <td>0.0</td>\n",
       "      <td>0.0</td>\n",
       "      <td>0.0</td>\n",
       "      <td>0.0</td>\n",
       "      <td>0.0</td>\n",
       "      <td>0.0</td>\n",
       "      <td>0.0</td>\n",
       "      <td>0.0</td>\n",
       "      <td>0.0</td>\n",
       "      <td>...</td>\n",
       "      <td>0.0</td>\n",
       "      <td>0.0</td>\n",
       "      <td>0.0</td>\n",
       "      <td>0.0</td>\n",
       "      <td>0.0</td>\n",
       "      <td>0.0</td>\n",
       "      <td>2.0</td>\n",
       "      <td>0.0</td>\n",
       "      <td>0.0</td>\n",
       "      <td>0.0</td>\n",
       "    </tr>\n",
       "    <tr>\n",
       "      <th>LCA-3-12</th>\n",
       "      <td>0.0</td>\n",
       "      <td>0.0</td>\n",
       "      <td>0.0</td>\n",
       "      <td>0.0</td>\n",
       "      <td>0.0</td>\n",
       "      <td>0.0</td>\n",
       "      <td>0.0</td>\n",
       "      <td>NaN</td>\n",
       "      <td>NaN</td>\n",
       "      <td>NaN</td>\n",
       "      <td>...</td>\n",
       "      <td>0.0</td>\n",
       "      <td>0.0</td>\n",
       "      <td>0.0</td>\n",
       "      <td>0.0</td>\n",
       "      <td>0.0</td>\n",
       "      <td>0.0</td>\n",
       "      <td>2.0</td>\n",
       "      <td>0.0</td>\n",
       "      <td>0.0</td>\n",
       "      <td>0.0</td>\n",
       "    </tr>\n",
       "  </tbody>\n",
       "</table>\n",
       "<p>5 rows × 993247 columns</p>\n",
       "</div>"
      ],
      "text/plain": [
       "           1267     1268     1270     1271     1272     1273     1274     \\\n",
       "Gis1-24        0.0      0.0      0.0      0.0      0.0      0.0      0.0   \n",
       "Bwi1-74        0.0      0.0      0.0      0.0      0.0      0.0      0.0   \n",
       "Tai_R2-30      0.0      0.0      0.0      0.0      0.0      0.0      0.0   \n",
       "Sob1-31        0.0      0.0      0.0      0.0      0.0      0.0      0.0   \n",
       "LCA-3-12       0.0      0.0      0.0      0.0      0.0      0.0      0.0   \n",
       "\n",
       "           1451     1452     1453     ...  2690716  2690717  2690718  2690719  \\\n",
       "Gis1-24        0.0      0.0      0.0  ...      0.0      0.0      0.0      0.0   \n",
       "Bwi1-74        0.0      0.0      0.0  ...      0.0      0.0      0.0      0.0   \n",
       "Tai_R2-30      0.0      0.0      0.0  ...      0.0      0.0      0.0      0.0   \n",
       "Sob1-31        0.0      0.0      0.0  ...      0.0      0.0      0.0      0.0   \n",
       "LCA-3-12       NaN      NaN      NaN  ...      0.0      0.0      0.0      0.0   \n",
       "\n",
       "           2690720  2690721  2690722  2690723  2690724  2690725  \n",
       "Gis1-24        0.0      0.0      2.0      0.0      0.0      0.0  \n",
       "Bwi1-74        0.0      0.0      2.0      0.0      0.0      0.0  \n",
       "Tai_R2-30      0.0      0.0      2.0      0.0      0.0      0.0  \n",
       "Sob1-31        0.0      0.0      2.0      0.0      0.0      0.0  \n",
       "LCA-3-12       0.0      0.0      2.0      0.0      0.0      0.0  \n",
       "\n",
       "[5 rows x 993247 columns]"
      ]
     },
     "execution_count": 13,
     "metadata": {},
     "output_type": "execute_result"
    }
   ],
   "source": [
    "df = pd.read_pickle(\"./data.pkl\")\n",
    "df.head()"
   ]
  },
  {
   "cell_type": "code",
   "execution_count": 20,
   "metadata": {},
   "outputs": [
    {
     "data": {
      "text/plain": [
       "{0.0: 240162970, 2.0: 17846959, 1.0: 915310}"
      ]
     },
     "execution_count": 20,
     "metadata": {},
     "output_type": "execute_result"
    }
   ],
   "source": [
    "df.stack().value_counts().to_dict()"
   ]
  },
  {
   "cell_type": "code",
   "execution_count": 21,
   "metadata": {},
   "outputs": [
    {
     "data": {
      "text/plain": [
       "(280, 993247)"
      ]
     },
     "execution_count": 21,
     "metadata": {},
     "output_type": "execute_result"
    }
   ],
   "source": [
    "df.shape"
   ]
  },
  {
   "cell_type": "code",
   "execution_count": 31,
   "metadata": {},
   "outputs": [
    {
     "ename": "NameError",
     "evalue": "name 're' is not defined",
     "output_type": "error",
     "traceback": [
      "\u001b[0;31m---------------------------------------------------------------------------\u001b[0m",
      "\u001b[0;31mNameError\u001b[0m                                 Traceback (most recent call last)",
      "\u001b[0;32m<ipython-input-31-aaf8cb82aa58>\u001b[0m in \u001b[0;36m<module>\u001b[0;34m\u001b[0m\n\u001b[1;32m      5\u001b[0m \u001b[0;34m\u001b[0m\u001b[0m\n\u001b[1;32m      6\u001b[0m \u001b[0;32mfor\u001b[0m \u001b[0msite\u001b[0m \u001b[0;32min\u001b[0m \u001b[0mdf\u001b[0m\u001b[0;34m.\u001b[0m\u001b[0mindex\u001b[0m\u001b[0;34m.\u001b[0m\u001b[0mvalues\u001b[0m\u001b[0;34m:\u001b[0m\u001b[0;34m\u001b[0m\u001b[0;34m\u001b[0m\u001b[0m\n\u001b[0;32m----> 7\u001b[0;31m     \u001b[0my\u001b[0m\u001b[0;34m.\u001b[0m\u001b[0mappend\u001b[0m\u001b[0;34m(\u001b[0m\u001b[0mre\u001b[0m\u001b[0;34m.\u001b[0m\u001b[0msub\u001b[0m\u001b[0;34m(\u001b[0m\u001b[0;34m'[^a-zA-Z]+'\u001b[0m\u001b[0;34m,\u001b[0m \u001b[0;34m''\u001b[0m\u001b[0;34m,\u001b[0m \u001b[0msite\u001b[0m\u001b[0;34m)\u001b[0m\u001b[0;34m)\u001b[0m\u001b[0;34m\u001b[0m\u001b[0;34m\u001b[0m\u001b[0m\n\u001b[0m\u001b[1;32m      8\u001b[0m \u001b[0;34m\u001b[0m\u001b[0m\n\u001b[1;32m      9\u001b[0m \u001b[0mX_train\u001b[0m\u001b[0;34m,\u001b[0m \u001b[0mX_test\u001b[0m\u001b[0;34m,\u001b[0m \u001b[0my_train\u001b[0m\u001b[0;34m,\u001b[0m \u001b[0my_test\u001b[0m \u001b[0;34m=\u001b[0m \u001b[0mtrain_test_split\u001b[0m\u001b[0;34m(\u001b[0m\u001b[0mX\u001b[0m\u001b[0;34m,\u001b[0m \u001b[0my\u001b[0m\u001b[0;34m,\u001b[0m \u001b[0mtest_size\u001b[0m\u001b[0;34m=\u001b[0m\u001b[0;36m0.2\u001b[0m\u001b[0;34m)\u001b[0m\u001b[0;34m\u001b[0m\u001b[0;34m\u001b[0m\u001b[0m\n",
      "\u001b[0;31mNameError\u001b[0m: name 're' is not defined"
     ]
    }
   ],
   "source": [
    "X = df.reset_index(drop = True)\n",
    "X = X.fillna(X.mean())"
   ]
  },
  {
   "cell_type": "code",
   "execution_count": 34,
   "metadata": {},
   "outputs": [
    {
     "data": {
      "text/plain": [
       "['Gis',\n",
       " 'Bwi',\n",
       " 'TaiR',\n",
       " 'Sob',\n",
       " 'LCA',\n",
       " 'Baf',\n",
       " 'Gou',\n",
       " 'N',\n",
       " 'Din',\n",
       " 'Djo',\n",
       " 'El',\n",
       " 'Gas',\n",
       " 'Baf',\n",
       " 'Baf',\n",
       " 'Bil',\n",
       " 'Fjn',\n",
       " 'Nim',\n",
       " 'Fjn',\n",
       " 'San',\n",
       " 'Boe',\n",
       " 'Gbo',\n",
       " 'Gas',\n",
       " 'Kay',\n",
       " 'GB',\n",
       " 'Kor',\n",
       " 'Kay',\n",
       " 'Gas',\n",
       " 'Boe',\n",
       " 'Lop',\n",
       " 'Con',\n",
       " 'Gep',\n",
       " 'Kab',\n",
       " 'Bud',\n",
       " 'Gbo',\n",
       " 'Sob',\n",
       " 'Gis',\n",
       " 'Nim',\n",
       " 'Nim',\n",
       " 'Bud',\n",
       " 'San',\n",
       " 'CNPW',\n",
       " 'CNPE',\n",
       " 'Mtc',\n",
       " 'Gbo',\n",
       " 'Gis',\n",
       " 'Baf',\n",
       " 'Djo',\n",
       " 'Baf',\n",
       " 'Uga',\n",
       " 'Gis',\n",
       " 'Fjn',\n",
       " 'Gis',\n",
       " 'Nim',\n",
       " 'Baf',\n",
       " 'Bat',\n",
       " 'N',\n",
       " 'Con',\n",
       " 'Bud',\n",
       " 'MTC',\n",
       " 'Bwi',\n",
       " 'Cam',\n",
       " 'Kor',\n",
       " 'Nim',\n",
       " 'Fouta',\n",
       " 'Mtc',\n",
       " 'TaiR',\n",
       " 'Kay',\n",
       " 'N',\n",
       " 'NNP',\n",
       " 'Cnp',\n",
       " 'Gep',\n",
       " 'Cnp',\n",
       " 'Rt',\n",
       " 'Mbe',\n",
       " 'Lib',\n",
       " 'Djo',\n",
       " 'Gis',\n",
       " 'N',\n",
       " 'Din',\n",
       " 'Bil',\n",
       " 'Gas',\n",
       " 'Uga',\n",
       " 'Gis',\n",
       " 'Mbe',\n",
       " 'Gis',\n",
       " 'Dja',\n",
       " 'Gis',\n",
       " 'Baf',\n",
       " 'Fouta',\n",
       " 'Fouta',\n",
       " 'GB',\n",
       " 'San',\n",
       " 'Onp',\n",
       " 'Lib',\n",
       " 'NNP',\n",
       " 'Gis',\n",
       " 'Gou',\n",
       " 'Mtc',\n",
       " 'Gbo',\n",
       " 'Mtc',\n",
       " 'Uga',\n",
       " 'CNPW',\n",
       " 'Gep',\n",
       " 'Bud',\n",
       " 'TaiR',\n",
       " 'Djo',\n",
       " 'Gis',\n",
       " 'Gas',\n",
       " 'Mtc',\n",
       " 'Con',\n",
       " 'Boe',\n",
       " 'Uga',\n",
       " 'Uga',\n",
       " 'Boe',\n",
       " 'N',\n",
       " 'Gis',\n",
       " 'Fjn',\n",
       " 'Gou',\n",
       " 'TaiE',\n",
       " 'Kay',\n",
       " 'Boe',\n",
       " 'Uga',\n",
       " 'Boe',\n",
       " 'N',\n",
       " 'Sob',\n",
       " 'Kay',\n",
       " 'Gco',\n",
       " 'Kor',\n",
       " 'Gou',\n",
       " 'Bil',\n",
       " 'Din',\n",
       " 'Gco',\n",
       " 'Gco',\n",
       " 'TaiR',\n",
       " 'Gou',\n",
       " 'Kay',\n",
       " 'Gbo',\n",
       " 'Onp',\n",
       " 'Bil',\n",
       " 'Con',\n",
       " 'Kay',\n",
       " 'GB',\n",
       " 'Fjn',\n",
       " 'N',\n",
       " 'Gas',\n",
       " 'Fjn',\n",
       " 'Con',\n",
       " 'Nim',\n",
       " 'Fouta',\n",
       " 'Onp',\n",
       " 'Gep',\n",
       " 'Boe',\n",
       " 'Gbo',\n",
       " 'Din',\n",
       " 'Bwi',\n",
       " 'Rt',\n",
       " 'Gbo',\n",
       " 'Gep',\n",
       " 'Kay',\n",
       " 'CNPW',\n",
       " 'Mbe',\n",
       " 'Lib',\n",
       " 'Fouta',\n",
       " 'Gas',\n",
       " 'Gbo',\n",
       " 'Kay',\n",
       " 'Din',\n",
       " 'Fouta',\n",
       " 'Mbe',\n",
       " 'Cnp',\n",
       " 'Din',\n",
       " 'Din',\n",
       " 'Cnp',\n",
       " 'Fjn',\n",
       " 'Nim',\n",
       " 'Bud',\n",
       " 'Con',\n",
       " 'GB',\n",
       " 'Din',\n",
       " 'Bud',\n",
       " 'Baf',\n",
       " 'Fjn',\n",
       " 'Fouta',\n",
       " 'Boe',\n",
       " 'Gou',\n",
       " 'TaiE',\n",
       " 'Uga',\n",
       " 'Cnp',\n",
       " 'Gbo',\n",
       " 'Cnp',\n",
       " 'N',\n",
       " 'Gco',\n",
       " 'Fouta',\n",
       " 'Nim',\n",
       " 'Gep',\n",
       " 'Rt',\n",
       " 'NNP',\n",
       " 'Gas',\n",
       " 'Chinko',\n",
       " 'Boe',\n",
       " 'Bud',\n",
       " 'Boe',\n",
       " 'San',\n",
       " 'Gis',\n",
       " 'Onp',\n",
       " 'Gbo',\n",
       " 'Nim',\n",
       " 'Chinko',\n",
       " 'Lop',\n",
       " 'NNP',\n",
       " 'Gco',\n",
       " 'N',\n",
       " 'Baf',\n",
       " 'Onp',\n",
       " 'Mbe',\n",
       " 'Boe',\n",
       " 'Gbo',\n",
       " 'Gis',\n",
       " 'Cam',\n",
       " 'Fouta',\n",
       " 'Chinko',\n",
       " 'N',\n",
       " 'NNP',\n",
       " 'Bud',\n",
       " 'Bwi',\n",
       " 'Bwi',\n",
       " 'Nim',\n",
       " 'San',\n",
       " 'Fjn',\n",
       " 'Onp',\n",
       " 'N',\n",
       " 'Con',\n",
       " 'Mbe',\n",
       " 'Mtc',\n",
       " 'Gou',\n",
       " 'San',\n",
       " 'CNPW',\n",
       " 'Gis',\n",
       " 'Gep',\n",
       " 'Gas',\n",
       " 'NNP',\n",
       " 'TaiR',\n",
       " 'Kay',\n",
       " 'Mtc',\n",
       " 'Gou',\n",
       " 'Boe',\n",
       " 'GB',\n",
       " 'Uga',\n",
       " 'CNPN',\n",
       " 'Gbo',\n",
       " 'Baf',\n",
       " 'Gas',\n",
       " 'Din',\n",
       " 'Mbe',\n",
       " 'Nim',\n",
       " 'Cam',\n",
       " 'N',\n",
       " 'Gbo',\n",
       " 'Uga',\n",
       " 'NNP',\n",
       " 'Lib',\n",
       " 'Gep',\n",
       " 'TaiR',\n",
       " 'Fjn',\n",
       " 'Kay',\n",
       " 'Chinko',\n",
       " 'Fouta',\n",
       " 'Bwi',\n",
       " 'NNP',\n",
       " 'San',\n",
       " 'Gou',\n",
       " 'Rt',\n",
       " 'Uga',\n",
       " 'Fouta',\n",
       " 'Fjn',\n",
       " 'Mbe',\n",
       " 'Fouta',\n",
       " 'Nim',\n",
       " 'Gco',\n",
       " 'Nim']"
      ]
     },
     "execution_count": 34,
     "metadata": {},
     "output_type": "execute_result"
    }
   ],
   "source": [
    "import re\n",
    "\n",
    "y = []\n",
    "\n",
    "for site in df.index.values:\n",
    "    y.append(re.sub('[^a-zA-Z]+', '', site))\n",
    "\n",
    "y"
   ]
  },
  {
   "cell_type": "code",
   "execution_count": 42,
   "metadata": {},
   "outputs": [
    {
     "name": "stdout",
     "output_type": "stream",
     "text": [
      "(224, 993247)\n",
      "(56, 993247)\n",
      "224\n",
      "56\n"
     ]
    }
   ],
   "source": [
    "X_train, X_test, y_train, y_test = train_test_split(X, y, test_size=0.2)\n",
    "print(X_train.shape)\n",
    "print(X_test.shape)\n",
    "print(len(y_train))\n",
    "print(len(y_test))"
   ]
  },
  {
   "cell_type": "markdown",
   "metadata": {},
   "source": [
    "# Multi-Layer Perceptron"
   ]
  },
  {
   "cell_type": "code",
   "execution_count": 73,
   "metadata": {},
   "outputs": [
    {
     "data": {
      "text/plain": [
       "MLPClassifier(alpha=1e-05, hidden_layer_sizes=(5, 2), random_state=1,\n",
       "              solver='lbfgs')"
      ]
     },
     "execution_count": 73,
     "metadata": {},
     "output_type": "execute_result"
    }
   ],
   "source": [
    "# Train\n",
    "mlp_clf = MLPClassifier(solver='lbfgs', alpha=1e-5, hidden_layer_sizes=(5, 2), random_state=1)\n",
    "mlp_clf.fit(X_train, y_train)"
   ]
  },
  {
   "cell_type": "code",
   "execution_count": 74,
   "metadata": {},
   "outputs": [
    {
     "name": "stdout",
     "output_type": "stream",
     "text": [
      "0.017857142857142856\n"
     ]
    }
   ],
   "source": [
    "# Predict + get accuracy\n",
    "mlp_y_pred = mlp_clf.predict(X_test)\n",
    "print(accuracy_score(y_test, mlp_y_pred))"
   ]
  },
  {
   "cell_type": "markdown",
   "metadata": {},
   "source": [
    "The results provided by using a Multi-Layer Perceptron are notoriously bad, resulting in an accuracy of around 0.01%."
   ]
  },
  {
   "cell_type": "markdown",
   "metadata": {},
   "source": [
    "# Random Forest:"
   ]
  },
  {
   "cell_type": "code",
   "execution_count": 79,
   "metadata": {},
   "outputs": [
    {
     "data": {
      "text/plain": [
       "RandomForestClassifier()"
      ]
     },
     "execution_count": 79,
     "metadata": {},
     "output_type": "execute_result"
    }
   ],
   "source": [
    "# Train\n",
    "rf_clf = RandomForestClassifier()\n",
    "rf_clf.fit(X_train, y_train)"
   ]
  },
  {
   "cell_type": "code",
   "execution_count": 72,
   "metadata": {},
   "outputs": [
    {
     "name": "stdout",
     "output_type": "stream",
     "text": [
      "0.6071428571428571\n"
     ]
    }
   ],
   "source": [
    "# Predict + get accuracy\n",
    "rf_y_pred = rf_clf.predict(X_test)\n",
    "print(accuracy_score(y_test, rf_y_pred))"
   ]
  },
  {
   "cell_type": "markdown",
   "metadata": {},
   "source": [
    "The Random Forest classifier seems promising. It yields an accuracy of around 60.7% using bootstrapping, and around 57.1% without it."
   ]
  },
  {
   "cell_type": "code",
   "execution_count": 84,
   "metadata": {},
   "outputs": [
    {
     "data": {
      "text/plain": [
       "0.0035714285714285713"
      ]
     },
     "execution_count": 84,
     "metadata": {},
     "output_type": "execute_result"
    }
   ],
   "source": [
    "len(y)\n",
    "1 / 280"
   ]
  },
  {
   "cell_type": "markdown",
   "metadata": {},
   "source": [
    "The chance accuracy is ~0.003"
   ]
  }
 ],
 "metadata": {
  "interpreter": {
   "hash": "f5ef0fd4c7e3cf5f6cff616fd7afe15dcb4f1f818ab64747f137916508eb708e"
  },
  "kernelspec": {
   "display_name": "Python 3.8.8 64-bit ('base': conda)",
   "name": "python3"
  },
  "language_info": {
   "codemirror_mode": {
    "name": "ipython",
    "version": 3
   },
   "file_extension": ".py",
   "mimetype": "text/x-python",
   "name": "python",
   "nbconvert_exporter": "python",
   "pygments_lexer": "ipython3",
   "version": "3.8.8"
  }
 },
 "nbformat": 4,
 "nbformat_minor": 5
}
