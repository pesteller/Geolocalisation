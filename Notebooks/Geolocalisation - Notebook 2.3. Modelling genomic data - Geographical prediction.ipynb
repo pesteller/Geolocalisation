{
 "cells": [
  {
   "cell_type": "markdown",
   "id": "e80aef9f",
   "metadata": {},
   "source": [
    "# <span style=\"color:green\">Geolocalisation -  Notebook 2.3 Modelling genomic data - Geographical prediction</span>\n",
    "\n",
    "## <span style=\"color:green\">0. Load packages and data stored as pkl</span>"
   ]
  },
  {
   "cell_type": "code",
   "execution_count": 1,
   "id": "44cc1e5b",
   "metadata": {},
   "outputs": [],
   "source": [
    "import numpy as np # linear algebra\n",
    "import pandas as pd # data processing, CSV file I/O (e.g. pd.read_csv)\n",
    "import matplotlib.pyplot as plt\n",
    "import seaborn as sns\n",
    "\n",
    "from sklearn.model_selection import train_test_split\n",
    "from sklearn.metrics import balanced_accuracy_score, accuracy_score, average_precision_score, f1_score\n",
    "\n",
    "# If should be df_c2_filtPos80filtSamp70 but for abbreviation we will made it df_train_c\n",
    "df = pd.read_pickle(\"../data/df_c2_filtPos80filtSamp70.pkl.gz\", compression=\"infer\") # Import object with pickle\n",
    "\n",
    "geo = pd.read_csv(\"../data/Sample_localisation_extended.csv\", decimal=',') # Data with geolocalisation"
   ]
  },
  {
   "cell_type": "code",
   "execution_count": 2,
   "id": "c51d834f",
   "metadata": {
    "scrolled": true
   },
   "outputs": [
    {
     "name": "stdout",
     "output_type": "stream",
     "text": [
      "(346, 288274)\n",
      "(828, 6)\n"
     ]
    }
   ],
   "source": [
    "print(df.shape)\n",
    "print(geo.shape)"
   ]
  },
  {
   "cell_type": "markdown",
   "id": "b7146ac9",
   "metadata": {},
   "source": [
    "## <span style=\"color:green\">1. Formatting the data</span>"
   ]
  },
  {
   "cell_type": "markdown",
   "id": "89946e81",
   "metadata": {},
   "source": [
    "### <span style=\"color:green\">1.1 Replace NaN by mean of columns and rows</span>"
   ]
  },
  {
   "cell_type": "code",
   "execution_count": 3,
   "id": "6484022b",
   "metadata": {},
   "outputs": [],
   "source": [
    "mean_val=df.iloc[:,].mean().mean()\n",
    "df = df.replace(np.nan, mean_val)"
   ]
  },
  {
   "cell_type": "markdown",
   "id": "e3bbc3ab",
   "metadata": {},
   "source": [
    "## <span style=\"color:green\">2. Modelling </span>\n",
    "#### <span style=\"color:green\">Define X and y variables</span>"
   ]
  },
  {
   "cell_type": "code",
   "execution_count": 4,
   "id": "bc4f2b31",
   "metadata": {},
   "outputs": [
    {
     "name": "stdout",
     "output_type": "stream",
     "text": [
      "(276, 288274)\n",
      "(70, 288274)\n",
      "276\n",
      "70\n"
     ]
    }
   ],
   "source": [
    "# Set seed\n",
    "import random\n",
    "random.seed(1)\n",
    "\n",
    "names = df.axes[0].tolist() # Names of samples\n",
    "geo = geo.reset_index().set_index('ExtractID').loc[names].reset_index().set_index('index') # Extract geo rows that are in names\n",
    "\n",
    "y = geo.iloc[:,2:4] # For Longitude and Latitude\n",
    "X = df.reset_index(drop = True)\n",
    "\n",
    "X_train, X_test, y_train, y_test = train_test_split(X, y, test_size=0.2)\n",
    "\n",
    "# To make sure that dimensions are ok\n",
    "print(X_train.shape)\n",
    "print(X_test.shape)\n",
    "print(len(y_train))\n",
    "print(len(y_test))"
   ]
  },
  {
   "cell_type": "markdown",
   "id": "eaf5eece",
   "metadata": {},
   "source": [
    "### <span style=\"color:green\">2.1 Linear Regression</span>"
   ]
  },
  {
   "cell_type": "code",
   "execution_count": 5,
   "id": "8f32635b",
   "metadata": {},
   "outputs": [
    {
     "name": "stdout",
     "output_type": "stream",
     "text": [
      "The mean error in prediction using Linear Regression is  1.602260086699343\n"
     ]
    }
   ],
   "source": [
    "from sklearn import linear_model\n",
    "reg = linear_model.LinearRegression()\n",
    "reg.fit(X_train, y_train)\n",
    "\n",
    "y_pred = reg.predict(X_test)\n",
    "\n",
    "from sklearn.metrics import mean_squared_error\n",
    "mean_error = mean_squared_error(y_test, y_pred, squared=False)\n",
    "\n",
    "print(\"The mean error in prediction using Linear Regression is \", mean_error)"
   ]
  },
  {
   "cell_type": "code",
   "execution_count": 6,
   "id": "ead09342",
   "metadata": {},
   "outputs": [
    {
     "name": "stdout",
     "output_type": "stream",
     "text": [
      "The r2-score of our model is  0.9657271939342982\n"
     ]
    }
   ],
   "source": [
    "from sklearn.metrics import r2_score\n",
    "r2 = r2_score(y_test, y_pred)\n",
    "print(\"The r2-score of our model is \", r2)\n"
   ]
  },
  {
   "cell_type": "code",
   "execution_count": null,
   "id": "c9c1cb29",
   "metadata": {},
   "outputs": [],
   "source": [
    "import matplotlib.pyplot as plt\n",
    "plt.scatter(x=y_test['Longitude'], y=y_test['Latitude'])\n",
    "plt.title(\"Real geographical distribution of test samples\")\n",
    "plt.show()\n",
    "\n",
    "plt.scatter(x=np.array(y_pred)[:, 0], y=np.array(y_pred)[:, 1], c='red')\n",
    "plt.title(\"Predicted geographical distribution of test samples\")\n",
    "plt.show()"
   ]
  },
  {
   "cell_type": "markdown",
   "id": "689b4f14",
   "metadata": {},
   "source": [
    "<span style=\"color:green\">Linear Regression provides relatively satisfactory results, showing a capacity of predicting the overall area a sample was taken from. However, this is to be expected, since we have already seen that we are able to predict the name of the region of origin of a sample. It would be interesting to measure how accurately a sample gets placed inside a region relative to other samples from the same region.</span>"
   ]
  },
  {
   "cell_type": "markdown",
   "id": "2ec1f7e8",
   "metadata": {},
   "source": [
    "### <span style=\"color:green\">2.1.1 K Nearest Neighbors Regression</span>\n",
    "<span style=\"color:green\">Regression model based on KNearestNeighbors, that predicts values based on how close it is from the points of the training set using the coordinates.</span>"
   ]
  },
  {
   "cell_type": "code",
   "execution_count": 26,
   "id": "58533f9c",
   "metadata": {},
   "outputs": [],
   "source": [
    "from sklearn.neighbors import KNeighborsRegressor\n",
    "neigh = KNeighborsRegressor(n_neighbors=2, weight='uniform')\n",
    "neigh.fit(X_train, y_train)\n"
   ]
  },
  {
   "cell_type": "code",
   "execution_count": 31,
   "id": "2d94baee",
   "metadata": {},
   "outputs": [],
   "source": [
    "y_pred = neigh.predict(X_test)"
   ]
  },
  {
   "cell_type": "code",
   "execution_count": 32,
   "id": "96dbbb6f",
   "metadata": {},
   "outputs": [
    {
     "name": "stdout",
     "output_type": "stream",
     "text": [
      "The mean error in prediction using Linear Regression is  1.353686482413646\n"
     ]
    }
   ],
   "source": [
    "mean_error = mean_squared_error(y_test, y_pred, squared=False)\n",
    "\n",
    "print(\"The mean error in prediction using Linear Regression is \", mean_error)"
   ]
  },
  {
   "cell_type": "code",
   "execution_count": 33,
   "id": "8e1909cd",
   "metadata": {},
   "outputs": [
    {
     "name": "stdout",
     "output_type": "stream",
     "text": [
      "The r2-score of our model is  0.9759887082776392\n"
     ]
    }
   ],
   "source": [
    "r2 = r2_score(y_test, y_pred)\n",
    "print(\"The r2-score of our model is \", r2)"
   ]
  },
  {
   "cell_type": "markdown",
   "id": "acfa67d5",
   "metadata": {},
   "source": [
    "<span style=\"color:green\">It shows slightly better results than the linear regression model,\n",
    "    having a slightly better r2-score and 0.3 lower mean_error </span>"
   ]
  },
  {
   "cell_type": "code",
   "execution_count": 29,
   "id": "a373f749",
   "metadata": {},
   "outputs": [
    {
     "data": {
      "image/png": "[encoded data removed]",
      "text/plain": [
       "<Figure size 432x288 with 1 Axes>"
      ]
     },
     "metadata": {
      "needs_background": "light"
     },
     "output_type": "display_data"
    },
    {
     "data": {
      "image/png": "[encoded data removed]",
      "text/plain": [
       "<Figure size 432x288 with 1 Axes>"
      ]
     },
     "metadata": {
      "needs_background": "light"
     },
     "output_type": "display_data"
    }
   ],
   "source": [
    "import matplotlib.pyplot as plt\n",
    "plt.scatter(x=y_test['Longitude'], y=y_test['Latitude'])\n",
    "plt.title(\"Real geographical distribution of test samples\")\n",
    "plt.show()\n",
    "\n",
    "plt.scatter(x=np.array(y_pred)[:, 0], y=np.array(y_pred)[:, 1], c='red')\n",
    "plt.title(\"Predicted geographical distribution of test samples\")\n",
    "plt.show()"
   ]
  },
  {
   "cell_type": "markdown",
   "id": "55802d4c",
   "metadata": {},
   "source": [
    "## <span style=\"color:green\">3. Conclusion </span>\n",
    "<span style=\"color:green\">Once clean data is available, it is possible use a variety of classifiers for predicting the chimpanzee's subspecies from DNA. Out of the four classifiers tested, random forest, nearest neighbors and support vector machine are the ones which perform best, as all of them yield an accuracy and f1-scores of 1. </span>"
   ]
  }
 ],
 "metadata": {
  "interpreter": {
   "hash": "f5ef0fd4c7e3cf5f6cff616fd7afe15dcb4f1f818ab64747f137916508eb708e"
  },
  "kernelspec": {
   "display_name": "Python 3 (ipykernel)",
   "language": "python",
   "name": "python3"
  },
  "language_info": {
   "codemirror_mode": {
    "name": "ipython",
    "version": 3
   },
   "file_extension": ".py",
   "mimetype": "text/x-python",
   "name": "python",
   "nbconvert_exporter": "python",
   "pygments_lexer": "ipython3",
   "version": "3.9.13"
  }
 },
 "nbformat": 4,
 "nbformat_minor": 5
}
