{
 "cells": [
  {
   "cell_type": "markdown",
   "id": "3abff1a7",
   "metadata": {},
   "source": [
    "# <span style=\"color:green\">Geolocalisation -  Notebook 1.1 Data preprocessing</span>\n",
    "## <span style=\"color:green\">0. Load libraries and data</span>"
   ]
  },
  {
   "cell_type": "code",
   "execution_count": 1,
   "id": "a8824dfd",
   "metadata": {},
   "outputs": [],
   "source": [
    "import numpy as np # linear algebra\n",
    "import pandas as pd # data processing, CSV file I/O (e.g. pd.read_csv)\n",
    "import matplotlib.pyplot as plt\n",
    "import seaborn as sns\n",
    "\n",
    "## Since most of the data has already been trated and filtered, the code for uploading raw data is mostly commented\n",
    "# df = pd.read_table('data/Geo_data.GT.h.txt', sep=\"\\t\", header=0) "
   ]
  },
  {
   "cell_type": "markdown",
   "id": "74fee549",
   "metadata": {},
   "source": [
    "## <span style=\"color:green\">1. Formatting the data</span>\n",
    "### <span style=\"color:green\">1.1 Remove last column as it has no information</span>"
   ]
  },
  {
   "cell_type": "code",
   "execution_count": 4,
   "id": "fed33fdd",
   "metadata": {
    "scrolled": true
   },
   "outputs": [
    {
     "ename": "NameError",
     "evalue": "name 'df' is not defined",
     "output_type": "error",
     "traceback": [
      "\u001b[0;31m---------------------------------------------------------------------------\u001b[0m",
      "\u001b[0;31mNameError\u001b[0m                                 Traceback (most recent call last)",
      "\u001b[0;32m<ipython-input-4-c33ce2b1e116>\u001b[0m in \u001b[0;36m<module>\u001b[0;34m\u001b[0m\n\u001b[0;32m----> 1\u001b[0;31m \u001b[0mdf\u001b[0m \u001b[0;34m=\u001b[0m \u001b[0mdf\u001b[0m\u001b[0;34m.\u001b[0m\u001b[0mdrop\u001b[0m\u001b[0;34m(\u001b[0m\u001b[0mdf\u001b[0m\u001b[0;34m.\u001b[0m\u001b[0mcolumns\u001b[0m\u001b[0;34m[\u001b[0m\u001b[0;36m434\u001b[0m\u001b[0;34m]\u001b[0m\u001b[0;34m,\u001b[0m \u001b[0maxis\u001b[0m\u001b[0;34m=\u001b[0m\u001b[0;36m1\u001b[0m\u001b[0;34m)\u001b[0m \u001b[0;31m# Remove last column as it has no information\u001b[0m\u001b[0;34m\u001b[0m\u001b[0;34m\u001b[0m\u001b[0m\n\u001b[0m\u001b[1;32m      2\u001b[0m \u001b[0mdft\u001b[0m \u001b[0;34m=\u001b[0m \u001b[0mdf\u001b[0m\u001b[0;34m.\u001b[0m\u001b[0mT\u001b[0m \u001b[0;31m# transpose data.frame\u001b[0m\u001b[0;34m\u001b[0m\u001b[0;34m\u001b[0m\u001b[0m\n",
      "\u001b[0;31mNameError\u001b[0m: name 'df' is not defined"
     ]
    }
   ],
   "source": [
    "df = df.drop(df.columns[434], axis=1) # Remove last column as it has no information\n",
    "dft = df.T # transpose data.frame"
   ]
  },
  {
   "cell_type": "markdown",
   "id": "8fc4d4b8",
   "metadata": {},
   "source": [
    "### <span style=\"color:green\">1.2 Save data object with pickle / read data obtect with pickle</span>"
   ]
  },
  {
   "cell_type": "code",
   "execution_count": 4,
   "id": "a4968d41",
   "metadata": {},
   "outputs": [],
   "source": [
    "#dft.to_pickle(\"./pkl/dft.pkl.gz\", compression=\"infer\") # Save object with pickle\n",
    "#dft = pd.read_pickle(\"./pkl/dft.pkl.gz\", compression=\"infer\") # Import object with pickle"
   ]
  },
  {
   "cell_type": "code",
   "execution_count": 3,
   "id": "22e001a3",
   "metadata": {
    "scrolled": false
   },
   "outputs": [
    {
     "data": {
      "text/html": [
       "<div>\n",
       "<style scoped>\n",
       "    .dataframe tbody tr th:only-of-type {\n",
       "        vertical-align: middle;\n",
       "    }\n",
       "\n",
       "    .dataframe tbody tr th {\n",
       "        vertical-align: top;\n",
       "    }\n",
       "\n",
       "    .dataframe thead th {\n",
       "        text-align: right;\n",
       "    }\n",
       "</style>\n",
       "<table border=\"1\" class=\"dataframe\">\n",
       "  <thead>\n",
       "    <tr style=\"text-align: right;\">\n",
       "      <th></th>\n",
       "      <th>0</th>\n",
       "      <th>1</th>\n",
       "      <th>2</th>\n",
       "      <th>3</th>\n",
       "      <th>4</th>\n",
       "      <th>5</th>\n",
       "      <th>6</th>\n",
       "      <th>7</th>\n",
       "      <th>8</th>\n",
       "      <th>9</th>\n",
       "      <th>...</th>\n",
       "      <th>2690716</th>\n",
       "      <th>2690717</th>\n",
       "      <th>2690718</th>\n",
       "      <th>2690719</th>\n",
       "      <th>2690720</th>\n",
       "      <th>2690721</th>\n",
       "      <th>2690722</th>\n",
       "      <th>2690723</th>\n",
       "      <th>2690724</th>\n",
       "      <th>2690725</th>\n",
       "    </tr>\n",
       "  </thead>\n",
       "  <tbody>\n",
       "    <tr>\n",
       "      <th>Chinko-16</th>\n",
       "      <td>9</td>\n",
       "      <td>9</td>\n",
       "      <td>9</td>\n",
       "      <td>9</td>\n",
       "      <td>9</td>\n",
       "      <td>9</td>\n",
       "      <td>9</td>\n",
       "      <td>9</td>\n",
       "      <td>9</td>\n",
       "      <td>9</td>\n",
       "      <td>...</td>\n",
       "      <td>0</td>\n",
       "      <td>0</td>\n",
       "      <td>0</td>\n",
       "      <td>0</td>\n",
       "      <td>0</td>\n",
       "      <td>0</td>\n",
       "      <td>2</td>\n",
       "      <td>0</td>\n",
       "      <td>0</td>\n",
       "      <td>0</td>\n",
       "    </tr>\n",
       "    <tr>\n",
       "      <th>Chinko-3</th>\n",
       "      <td>9</td>\n",
       "      <td>9</td>\n",
       "      <td>9</td>\n",
       "      <td>9</td>\n",
       "      <td>9</td>\n",
       "      <td>9</td>\n",
       "      <td>9</td>\n",
       "      <td>9</td>\n",
       "      <td>9</td>\n",
       "      <td>9</td>\n",
       "      <td>...</td>\n",
       "      <td>0</td>\n",
       "      <td>0</td>\n",
       "      <td>0</td>\n",
       "      <td>0</td>\n",
       "      <td>0</td>\n",
       "      <td>0</td>\n",
       "      <td>2</td>\n",
       "      <td>0</td>\n",
       "      <td>0</td>\n",
       "      <td>0</td>\n",
       "    </tr>\n",
       "    <tr>\n",
       "      <th>Chinko-5</th>\n",
       "      <td>9</td>\n",
       "      <td>9</td>\n",
       "      <td>9</td>\n",
       "      <td>9</td>\n",
       "      <td>9</td>\n",
       "      <td>9</td>\n",
       "      <td>9</td>\n",
       "      <td>9</td>\n",
       "      <td>9</td>\n",
       "      <td>9</td>\n",
       "      <td>...</td>\n",
       "      <td>0</td>\n",
       "      <td>0</td>\n",
       "      <td>0</td>\n",
       "      <td>0</td>\n",
       "      <td>0</td>\n",
       "      <td>0</td>\n",
       "      <td>2</td>\n",
       "      <td>0</td>\n",
       "      <td>0</td>\n",
       "      <td>0</td>\n",
       "    </tr>\n",
       "    <tr>\n",
       "      <th>CMNP1-8</th>\n",
       "      <td>9</td>\n",
       "      <td>9</td>\n",
       "      <td>9</td>\n",
       "      <td>9</td>\n",
       "      <td>9</td>\n",
       "      <td>9</td>\n",
       "      <td>9</td>\n",
       "      <td>9</td>\n",
       "      <td>9</td>\n",
       "      <td>9</td>\n",
       "      <td>...</td>\n",
       "      <td>0</td>\n",
       "      <td>0</td>\n",
       "      <td>0</td>\n",
       "      <td>0</td>\n",
       "      <td>0</td>\n",
       "      <td>0</td>\n",
       "      <td>2</td>\n",
       "      <td>0</td>\n",
       "      <td>0</td>\n",
       "      <td>0</td>\n",
       "    </tr>\n",
       "    <tr>\n",
       "      <th>Cnp1-1</th>\n",
       "      <td>9</td>\n",
       "      <td>9</td>\n",
       "      <td>9</td>\n",
       "      <td>9</td>\n",
       "      <td>9</td>\n",
       "      <td>9</td>\n",
       "      <td>9</td>\n",
       "      <td>9</td>\n",
       "      <td>9</td>\n",
       "      <td>9</td>\n",
       "      <td>...</td>\n",
       "      <td>0</td>\n",
       "      <td>0</td>\n",
       "      <td>0</td>\n",
       "      <td>0</td>\n",
       "      <td>0</td>\n",
       "      <td>0</td>\n",
       "      <td>2</td>\n",
       "      <td>0</td>\n",
       "      <td>0</td>\n",
       "      <td>0</td>\n",
       "    </tr>\n",
       "  </tbody>\n",
       "</table>\n",
       "<p>5 rows × 2690726 columns</p>\n",
       "</div>"
      ],
      "text/plain": [
       "           0        1        2        3        4        5        6        \\\n",
       "Chinko-16        9        9        9        9        9        9        9   \n",
       "Chinko-3         9        9        9        9        9        9        9   \n",
       "Chinko-5         9        9        9        9        9        9        9   \n",
       "CMNP1-8          9        9        9        9        9        9        9   \n",
       "Cnp1-1           9        9        9        9        9        9        9   \n",
       "\n",
       "           7        8        9        ...  2690716  2690717  2690718  2690719  \\\n",
       "Chinko-16        9        9        9  ...        0        0        0        0   \n",
       "Chinko-3         9        9        9  ...        0        0        0        0   \n",
       "Chinko-5         9        9        9  ...        0        0        0        0   \n",
       "CMNP1-8          9        9        9  ...        0        0        0        0   \n",
       "Cnp1-1           9        9        9  ...        0        0        0        0   \n",
       "\n",
       "           2690720  2690721  2690722  2690723  2690724  2690725  \n",
       "Chinko-16        0        0        2        0        0        0  \n",
       "Chinko-3         0        0        2        0        0        0  \n",
       "Chinko-5         0        0        2        0        0        0  \n",
       "CMNP1-8          0        0        2        0        0        0  \n",
       "Cnp1-1           0        0        2        0        0        0  \n",
       "\n",
       "[5 rows x 2690726 columns]"
      ]
     },
     "execution_count": 3,
     "metadata": {},
     "output_type": "execute_result"
    }
   ],
   "source": [
    "dft.head()"
   ]
  },
  {
   "cell_type": "markdown",
   "id": "3649de8f",
   "metadata": {},
   "source": [
    "### <span style=\"color:green\">1.3 Replace missing (which is denoted with a 9) data by NaN</span>"
   ]
  },
  {
   "cell_type": "code",
   "execution_count": 4,
   "id": "fff7c3b5",
   "metadata": {},
   "outputs": [
    {
     "data": {
      "text/plain": [
       "(434, 2690726)"
      ]
     },
     "execution_count": 4,
     "metadata": {},
     "output_type": "execute_result"
    }
   ],
   "source": [
    "dft_c = dft.replace(9, np.nan) # Replace 9 by NaN. Note that here NaN is usued as a synonyn for NA"
   ]
  },
  {
   "cell_type": "code",
   "execution_count": 7,
   "id": "ca31d560",
   "metadata": {
    "scrolled": false
   },
   "outputs": [
    {
     "data": {
      "text/html": [
       "<div>\n",
       "<style scoped>\n",
       "    .dataframe tbody tr th:only-of-type {\n",
       "        vertical-align: middle;\n",
       "    }\n",
       "\n",
       "    .dataframe tbody tr th {\n",
       "        vertical-align: top;\n",
       "    }\n",
       "\n",
       "    .dataframe thead th {\n",
       "        text-align: right;\n",
       "    }\n",
       "</style>\n",
       "<table border=\"1\" class=\"dataframe\">\n",
       "  <thead>\n",
       "    <tr style=\"text-align: right;\">\n",
       "      <th></th>\n",
       "      <th>0</th>\n",
       "      <th>1</th>\n",
       "      <th>2</th>\n",
       "      <th>3</th>\n",
       "      <th>4</th>\n",
       "      <th>5</th>\n",
       "      <th>6</th>\n",
       "      <th>7</th>\n",
       "      <th>8</th>\n",
       "      <th>9</th>\n",
       "      <th>...</th>\n",
       "      <th>2690716</th>\n",
       "      <th>2690717</th>\n",
       "      <th>2690718</th>\n",
       "      <th>2690719</th>\n",
       "      <th>2690720</th>\n",
       "      <th>2690721</th>\n",
       "      <th>2690722</th>\n",
       "      <th>2690723</th>\n",
       "      <th>2690724</th>\n",
       "      <th>2690725</th>\n",
       "    </tr>\n",
       "  </thead>\n",
       "  <tbody>\n",
       "    <tr>\n",
       "      <th>Baf1-12</th>\n",
       "      <td>NaN</td>\n",
       "      <td>NaN</td>\n",
       "      <td>NaN</td>\n",
       "      <td>NaN</td>\n",
       "      <td>NaN</td>\n",
       "      <td>NaN</td>\n",
       "      <td>NaN</td>\n",
       "      <td>NaN</td>\n",
       "      <td>NaN</td>\n",
       "      <td>NaN</td>\n",
       "      <td>...</td>\n",
       "      <td>0.0</td>\n",
       "      <td>0.0</td>\n",
       "      <td>0.0</td>\n",
       "      <td>0.0</td>\n",
       "      <td>0.0</td>\n",
       "      <td>0.0</td>\n",
       "      <td>2.0</td>\n",
       "      <td>0.0</td>\n",
       "      <td>0.0</td>\n",
       "      <td>0.0</td>\n",
       "    </tr>\n",
       "    <tr>\n",
       "      <th>Baf2-46</th>\n",
       "      <td>NaN</td>\n",
       "      <td>NaN</td>\n",
       "      <td>NaN</td>\n",
       "      <td>NaN</td>\n",
       "      <td>NaN</td>\n",
       "      <td>NaN</td>\n",
       "      <td>NaN</td>\n",
       "      <td>NaN</td>\n",
       "      <td>NaN</td>\n",
       "      <td>NaN</td>\n",
       "      <td>...</td>\n",
       "      <td>NaN</td>\n",
       "      <td>NaN</td>\n",
       "      <td>NaN</td>\n",
       "      <td>NaN</td>\n",
       "      <td>NaN</td>\n",
       "      <td>NaN</td>\n",
       "      <td>NaN</td>\n",
       "      <td>NaN</td>\n",
       "      <td>NaN</td>\n",
       "      <td>NaN</td>\n",
       "    </tr>\n",
       "    <tr>\n",
       "      <th>Cnp1-14</th>\n",
       "      <td>NaN</td>\n",
       "      <td>NaN</td>\n",
       "      <td>NaN</td>\n",
       "      <td>NaN</td>\n",
       "      <td>NaN</td>\n",
       "      <td>NaN</td>\n",
       "      <td>NaN</td>\n",
       "      <td>NaN</td>\n",
       "      <td>NaN</td>\n",
       "      <td>NaN</td>\n",
       "      <td>...</td>\n",
       "      <td>0.0</td>\n",
       "      <td>0.0</td>\n",
       "      <td>0.0</td>\n",
       "      <td>0.0</td>\n",
       "      <td>0.0</td>\n",
       "      <td>NaN</td>\n",
       "      <td>NaN</td>\n",
       "      <td>NaN</td>\n",
       "      <td>NaN</td>\n",
       "      <td>NaN</td>\n",
       "    </tr>\n",
       "    <tr>\n",
       "      <th>Cnp1-2</th>\n",
       "      <td>NaN</td>\n",
       "      <td>NaN</td>\n",
       "      <td>NaN</td>\n",
       "      <td>NaN</td>\n",
       "      <td>NaN</td>\n",
       "      <td>NaN</td>\n",
       "      <td>NaN</td>\n",
       "      <td>NaN</td>\n",
       "      <td>NaN</td>\n",
       "      <td>NaN</td>\n",
       "      <td>...</td>\n",
       "      <td>0.0</td>\n",
       "      <td>0.0</td>\n",
       "      <td>0.0</td>\n",
       "      <td>0.0</td>\n",
       "      <td>0.0</td>\n",
       "      <td>0.0</td>\n",
       "      <td>2.0</td>\n",
       "      <td>0.0</td>\n",
       "      <td>0.0</td>\n",
       "      <td>0.0</td>\n",
       "    </tr>\n",
       "    <tr>\n",
       "      <th>Cnp1-36</th>\n",
       "      <td>NaN</td>\n",
       "      <td>NaN</td>\n",
       "      <td>NaN</td>\n",
       "      <td>NaN</td>\n",
       "      <td>NaN</td>\n",
       "      <td>NaN</td>\n",
       "      <td>NaN</td>\n",
       "      <td>0.0</td>\n",
       "      <td>0.0</td>\n",
       "      <td>0.0</td>\n",
       "      <td>...</td>\n",
       "      <td>0.0</td>\n",
       "      <td>0.0</td>\n",
       "      <td>0.0</td>\n",
       "      <td>0.0</td>\n",
       "      <td>0.0</td>\n",
       "      <td>0.0</td>\n",
       "      <td>2.0</td>\n",
       "      <td>0.0</td>\n",
       "      <td>0.0</td>\n",
       "      <td>0.0</td>\n",
       "    </tr>\n",
       "  </tbody>\n",
       "</table>\n",
       "<p>5 rows × 2690726 columns</p>\n",
       "</div>"
      ],
      "text/plain": [
       "         0        1        2        3        4        5        6        \\\n",
       "Baf1-12      NaN      NaN      NaN      NaN      NaN      NaN      NaN   \n",
       "Baf2-46      NaN      NaN      NaN      NaN      NaN      NaN      NaN   \n",
       "Cnp1-14      NaN      NaN      NaN      NaN      NaN      NaN      NaN   \n",
       "Cnp1-2       NaN      NaN      NaN      NaN      NaN      NaN      NaN   \n",
       "Cnp1-36      NaN      NaN      NaN      NaN      NaN      NaN      NaN   \n",
       "\n",
       "         7        8        9        ...  2690716  2690717  2690718  2690719  \\\n",
       "Baf1-12      NaN      NaN      NaN  ...      0.0      0.0      0.0      0.0   \n",
       "Baf2-46      NaN      NaN      NaN  ...      NaN      NaN      NaN      NaN   \n",
       "Cnp1-14      NaN      NaN      NaN  ...      0.0      0.0      0.0      0.0   \n",
       "Cnp1-2       NaN      NaN      NaN  ...      0.0      0.0      0.0      0.0   \n",
       "Cnp1-36      0.0      0.0      0.0  ...      0.0      0.0      0.0      0.0   \n",
       "\n",
       "         2690720  2690721  2690722  2690723  2690724  2690725  \n",
       "Baf1-12      0.0      0.0      2.0      0.0      0.0      0.0  \n",
       "Baf2-46      NaN      NaN      NaN      NaN      NaN      NaN  \n",
       "Cnp1-14      0.0      NaN      NaN      NaN      NaN      NaN  \n",
       "Cnp1-2       0.0      0.0      2.0      0.0      0.0      0.0  \n",
       "Cnp1-36      0.0      0.0      2.0      0.0      0.0      0.0  \n",
       "\n",
       "[5 rows x 2690726 columns]"
      ]
     },
     "execution_count": 7,
     "metadata": {},
     "output_type": "execute_result"
    }
   ],
   "source": [
    "dft_c.head()"
   ]
  },
  {
   "cell_type": "markdown",
   "id": "deb86cd0",
   "metadata": {},
   "source": [
    "### <span style=\"color:green\">1.4 Filter out non-informative positions</span>\n",
    "<span style=\"color:green\"> Check whether all column values show the same values (either NaN or the same genotype)</span>"
   ]
  },
  {
   "cell_type": "code",
   "execution_count": 11,
   "id": "d83ba3c9",
   "metadata": {},
   "outputs": [],
   "source": [
    "values = [] # Create an empty list in which to store the count of unique values per column\n",
    "for column in range(len(dft_c.columns)): # Iterating over each column\n",
    "    values.append(len(dft_c.iloc[:,column].dropna().unique())) # Ignoring NaNs, then count unique values"
   ]
  },
  {
   "cell_type": "markdown",
   "id": "20bd36c0",
   "metadata": {},
   "source": [
    "<span style=\"color:green\"> The list **values** will be 0 when all samples have a NaN for the same column and 1 when they all have the same genotype. So filter out the columns with **values** below 2. </span>"
   ]
  },
  {
   "cell_type": "code",
   "execution_count": 16,
   "id": "686bf8bb",
   "metadata": {
    "scrolled": true
   },
   "outputs": [],
   "source": [
    "dft_c2 = dft_c.iloc[:,[i for i, e in enumerate(values) if (e >= 2)]]\n",
    "dft_c2.shape"
   ]
  },
  {
   "cell_type": "code",
   "execution_count": 19,
   "id": "cc7214b7",
   "metadata": {},
   "outputs": [],
   "source": [
    "#dft_c2.to_pickle(\"./pkl/dft_c2.pkl.gz\", compression=\"infer\") # Save object with pickle\n",
    "#dft_c2 = pd.read_pickle(\"./pkl/dft_c2.pkl.gz\", compression=\"infer\") # Import object with pickle"
   ]
  },
  {
   "cell_type": "markdown",
   "id": "8b897897",
   "metadata": {},
   "source": [
    "### <span style=\"color:green\">1.5 Remove samples and positions with many NaNs</span>\n",
    "<span style=\"color:green\"> Even though non-informative positions have been filtered out, there are still some positions and samples which remain non-informative: these are positions with a high number of NaN for most samples and also samples which have a high number of NaN for most positions. Since we are facing a problem of high degree of missing values, it is important to consider those samples and positions that do not add a lot of information for the modelling. Note that here *NaN* is usued as a synonyn for *NA* though they are not.</span>\n",
    "\n",
    "<span style=\"color:green\"> Leveraging the number of samples and positions that would result from this filtering, we ended up choosing to remove positions (columns in the dataframe) with more than 80% missingness (defined as those that did not have information for 80% or more of the samples, *rows*). We also filtered out the samples (rows in the dataframe) with more than 70% missingness (with NaN for 70% of their positions, *columns*).</span>"
   ]
  },
  {
   "cell_type": "code",
   "execution_count": 36,
   "id": "a3ddf470",
   "metadata": {
    "scrolled": false
   },
   "outputs": [
    {
     "name": "stdout",
     "output_type": "stream",
     "text": [
      "Original dataframe: (434, 288274)\n",
      "Filtered dataframe: (346, 288274)\n"
     ]
    }
   ],
   "source": [
    "# Remove columns (positions), with more than 80% missingness (no information for 80% individuals)\n",
    "df_c2_filtPos80 = dft_c2.dropna(axis = \"columns\", thresh = int(0.8*len(dft_c2))) \n",
    "print(\"Original dataframe:\",  df_c2_filtPos80.shape)\n",
    "\n",
    "# Remove rows (samples), with more than 70% missingness (no information in 70% positions)\n",
    "df_c2_filtPos80filtSamp70 = df_c2_filtPos80.dropna(axis = \"rows\", thresh = int(0.7*len(df_c2_filtPos80.columns)))\n",
    "print(\"Filtered dataframe:\", df_c2_filtPos80filtSamp70.shape)"
   ]
  },
  {
   "cell_type": "code",
   "execution_count": 27,
   "id": "3ca3d082",
   "metadata": {},
   "outputs": [],
   "source": [
    "df_c2_filtPos80filtSamp70.to_pickle(\"./pkl/df_c2_filtPos80filtSamp70.pkl.gz\", compression=\"infer\") # Save object with pickle\n",
    "#df_c2_filtPos80filtSamp70 = pd.read_pickle(\"./pkl/df_c2_filtPos80filtSamp70.pkl.gz\", compression=\"infer\") # Save object with pickle"
   ]
  },
  {
   "cell_type": "markdown",
   "id": "5ab7a6b3",
   "metadata": {},
   "source": [
    "<span style=\"color:green\">Different filtering criteria were tested:</span>"
   ]
  },
  {
   "cell_type": "code",
   "execution_count": 25,
   "id": "b94bf8b5",
   "metadata": {},
   "outputs": [
    {
     "name": "stdout",
     "output_type": "stream",
     "text": [
      "df_c2_filtPos80 (434, 288274)\n",
      "df_c2_filtPos80filtSamp50 (390, 288274)\n",
      "df_c2_filtPos80filtSamp60 (367, 288274)\n",
      "df_c2_filtPos80filtSamp70 (346, 288274)\n",
      "df_c2_filtPos80filtSamp80 (306, 288274)\n"
     ]
    }
   ],
   "source": [
    "# DO NOT NEED TO RUN\n",
    "# Remove columns (positions), with more than 80% missingness (no information for 80% individuals)\n",
    "df_c2_filtPos80 = dft_c2.dropna(axis = \"columns\", thresh = int(0.8*len(dft_c2))) \n",
    "print(\"df_c2_filtPos80\", df_c2_filtPos80.shape)\n",
    "\n",
    "# Remove rows (samples), with more than 50% missingness (no information in 50% positions)\n",
    "df_c2_filtPos80filtSamp50 = df_c2_filtPos80.dropna(axis = \"rows\", thresh = int(0.5*len(df_c2_filtPos80.columns)))\n",
    "print(\"df_c2_filtPos80filtSamp50\", df_train_c_filtPos80filtSamp50.shape)\n",
    "\n",
    "# Remove rows (samples), with more than 60% missingness (no information in 60% positions)\n",
    "df_c2_filtPos80filtSamp60 = df_c2_filtPos80.dropna(axis = \"rows\", thresh = int(0.6*len(df_c2_filtPos80.columns)))\n",
    "print(\"df_c2_filtPos80filtSamp60\", df_train_c_filtPos80filtSamp60.shape)\n",
    "\n",
    "# Remove rows (samples), with more than 70% missingness (no information in 70% positions)\n",
    "df_c2_filtPos80filtSamp70 = df_c2_filtPos80.dropna(axis = \"rows\", thresh = int(0.7*len(df_c2_filtPos80.columns)))\n",
    "print(\"df_c2_filtPos80filtSamp70\", df_train_c_filtPos80filtSamp70.shape)\n",
    "\n",
    "# Remove rows (samples), with more than 80% missingness (no information in 80% positions)\n",
    "df_c2_filtPos80filtSamp80 = df_c2_filtPos80.dropna(axis = \"rows\", thresh = int(0.8*len(df_c2_filtPos80.columns)))\n",
    "print(\"df_c2_filtPos80filtSamp80\", df_train_c_filtPos80filtSamp80.shape)"
   ]
  }
 ],
 "metadata": {
  "kernelspec": {
   "display_name": "Python 3",
   "language": "python",
   "name": "python3"
  },
  "language_info": {
   "codemirror_mode": {
    "name": "ipython",
    "version": 3
   },
   "file_extension": ".py",
   "mimetype": "text/x-python",
   "name": "python",
   "nbconvert_exporter": "python",
   "pygments_lexer": "ipython3",
   "version": "3.8.8"
  }
 },
 "nbformat": 4,
 "nbformat_minor": 5
}
